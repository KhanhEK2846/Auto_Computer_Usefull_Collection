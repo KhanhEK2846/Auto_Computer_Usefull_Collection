{
 "cells": [
  {
   "cell_type": "markdown",
   "metadata": {},
   "source": [
    "# Import Library"
   ]
  },
  {
   "cell_type": "code",
   "execution_count": 1,
   "metadata": {},
   "outputs": [],
   "source": [
    "import requests as rq"
   ]
  },
  {
   "cell_type": "markdown",
   "metadata": {},
   "source": [
    "# Define"
   ]
  },
  {
   "cell_type": "markdown",
   "metadata": {},
   "source": [
    "## Variables"
   ]
  },
  {
   "cell_type": "code",
   "execution_count": 2,
   "metadata": {},
   "outputs": [],
   "source": [
    "API = 'fca_live_KpDNie1ZYxbf3bttNsCsv3Evu1JNQ8HqXEUjhB0R'\n",
    "URL = f'https://api.freecurrencyapi.com/v1/latest?apikey={API}'"
   ]
  },
  {
   "cell_type": "code",
   "execution_count": 3,
   "metadata": {},
   "outputs": [],
   "source": [
    "CURRENCIES = [\"USD\", \"CAD\", \"EUR\", \"AUD\", \"CNY\"]"
   ]
  },
  {
   "cell_type": "markdown",
   "metadata": {},
   "source": [
    "## Function"
   ]
  },
  {
   "cell_type": "code",
   "execution_count": 4,
   "metadata": {},
   "outputs": [],
   "source": [
    "def convert_currency(base):\n",
    "    currencies = \",\".join(CURRENCIES)\n",
    "    url = f\"{URL}&base_currency={base}&currencies={currencies}\"\n",
    "    try:\n",
    "        response = rq.get(url)\n",
    "        data = response.json()\n",
    "        return data[\"data\"]\n",
    "    except:\n",
    "        print(\"Invalid currency.\")\n",
    "        return None"
   ]
  },
  {
   "cell_type": "markdown",
   "metadata": {},
   "source": [
    "# Main"
   ]
  },
  {
   "cell_type": "code",
   "execution_count": 5,
   "metadata": {},
   "outputs": [
    {
     "name": "stdout",
     "output_type": "stream",
     "text": [
      "AUD: 1.5306801972\n",
      "CAD: 1.348590268\n",
      "CNY: 7.1917008193\n",
      "EUR: 0.927790165\n"
     ]
    }
   ],
   "source": [
    "while True:\n",
    "    base = input(\"Enter the base currency (q for quit): \").upper()\n",
    "\n",
    "    if \"Q\" in base:\n",
    "        break\n",
    "\n",
    "    data = convert_currency(base)\n",
    "    if not data:\n",
    "        continue\n",
    "\n",
    "    del data[base]\n",
    "    for ticker, value in data.items():\n",
    "        print(f\"{ticker}: {value}\")"
   ]
  }
 ],
 "metadata": {
  "kernelspec": {
   "display_name": "Python 3",
   "language": "python",
   "name": "python3"
  },
  "language_info": {
   "codemirror_mode": {
    "name": "ipython",
    "version": 3
   },
   "file_extension": ".py",
   "mimetype": "text/x-python",
   "name": "python",
   "nbconvert_exporter": "python",
   "pygments_lexer": "ipython3",
   "version": "3.11.4"
  }
 },
 "nbformat": 4,
 "nbformat_minor": 2
}
